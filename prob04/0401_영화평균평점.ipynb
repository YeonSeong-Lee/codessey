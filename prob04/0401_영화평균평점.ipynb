{
 "cells": [
  {
   "cell_type": "code",
   "execution_count": 74,
   "metadata": {},
   "outputs": [],
   "source": [
    "import pandas as pd\n",
    "import math\n",
    "import os\n",
    "import matplotlib.pyplot as plt"
   ]
  },
  {
   "cell_type": "code",
   "execution_count": 82,
   "metadata": {},
   "outputs": [
    {
     "name": "stdout",
     "output_type": "stream",
     "text": [
      "         user  movie  rate        time  rate_avg_movie  rate_avg_movie_class\n",
      "129090  41276  10384    10  1549038000            10.0                    10\n",
      "129091  41277  10384    10  1520530020            10.0                    10\n",
      "137412  48788  10799    10  1557332640            10.0                    10\n",
      "140453  51771  10974    10  1351621980            10.0                    10\n",
      "==========================================\n",
      "MAE:\t1.3034256627520515, \n",
      "MSE:\t4.089427083616391, \n",
      "RMSE:\t2.0222331921952996 \n",
      "MAPE:\t0.4275584271753014\n",
      "==========================================\n",
      "ConfusionMatrix: rate_avg_movie_class  1   2   3   4   5    6     7     8      9    10\n",
      "rate                                                                 \n",
      "1                      0   1   6  23  85   93   395   625   3967    4\n",
      "2                      0   2   1  10  29   29    72   221    407    0\n",
      "3                      0   0   1   5  30   38   121   239    379    0\n",
      "4                      0   0   0   5  17   39   108   352    562    0\n",
      "5                      0   0   1   6  25   66   199   571   1172    0\n",
      "6                      0   0   0   4  42   84   265  1119   2123    5\n",
      "7                      0   0   2   4  28   67   411  1831   4203    7\n",
      "8                      0   0   0   0  32   60   426  2648   8331   17\n",
      "9                      0   0   0   1  21   36   237  2272  12077   40\n",
      "10                     0   0   0  12  66  148  1140  7289  85405  351\n",
      "Accuracy: 0.11089474806339279,\n",
      "Precision: [np.float64(0.0), np.float64(0.0025940337224383916), np.float64(0.0012300123001230013), np.float64(0.0046168051708217915), np.float64(0.012254901960784314), np.float64(0.023064250411861616), np.float64(0.06271936517625515), np.float64(0.22998089282612472), np.float64(0.8224598202124762), np.float64(0.0037177871222632956)], \n",
      "Recall: [np.float64(0.0), np.float64(0.0025940337224383916), np.float64(0.0012300123001230013), np.float64(0.0046168051708217915), np.float64(0.012254901960784314), np.float64(0.023064250411861616), np.float64(0.06271936517625515), np.float64(0.22998089282612472), np.float64(0.8224598202124762), np.float64(0.0037177871222632956)], \n",
      "F1Score: [np.float64(nan), np.float64(0.0025940337224383916), np.float64(0.0012300123001230013), np.float64(0.0046168051708217915), np.float64(0.012254901960784314), np.float64(0.023064250411861616), np.float64(0.06271936517625515), np.float64(0.22998089282612474), np.float64(0.8224598202124762), np.float64(0.0037177871222632956)]\n"
     ]
    },
    {
     "name": "stderr",
     "output_type": "stream",
     "text": [
      "/tmp/ipykernel_783496/4250076068.py:60: RuntimeWarning: invalid value encountered in scalar divide\n",
      "  self.F1Score = [2 * self.Precision[i] * self.Recall[i] / (self.Precision[i] + self.Recall[i]) for i in range(0, 10)]\n"
     ]
    },
    {
     "data": {
      "text/plain": [
       "<__main__.Analyzer at 0x7e4fc5618770>"
      ]
     },
     "execution_count": 82,
     "metadata": {},
     "output_type": "execute_result"
    }
   ],
   "source": [
    "class MovieDataLoader:\n",
    "    def __init__(self, file_path = '../data'):\n",
    "        self.file_path = file_path\n",
    "        self.__load_data()\n",
    "        self.__clean_data()\n",
    "\n",
    "    def __load_data(self):\n",
    "        for file_name in os.listdir(self.file_path):\n",
    "            self.file_name = []\n",
    "            if file_name.endswith('.csv'):\n",
    "                setattr(self, os.path.splitext(file_name)[0], pd.read_csv(os.path.join(self.file_path, file_name)))\n",
    "            if file_name.endswith('.txt'):\n",
    "                setattr(self, os.path.splitext(file_name)[0], pd.read_csv(os.path.join(self.file_path, file_name), sep='\\t', engine='python'))\n",
    "\n",
    "    def __clean_data(self):\n",
    "        pass\n",
    "\n",
    "\n",
    "class AvgMovieRecommender:\n",
    "    def __init__(self, movie_data_loader):\n",
    "        self.loader = movie_data_loader\n",
    "        self.movies = self.loader.movies\n",
    "        self.rates = self.loader.rates\n",
    "        self.run()\n",
    "\n",
    "    def run(self):\n",
    "        self.rates['rate_avg_movie'] = self.rates.groupby('movie')['rate'].transform('mean')\n",
    "        self.rates['rate_avg_movie_class'] = self.rates['rate_avg_movie'].apply(lambda x: math.floor(x + 0.5))\n",
    "        self.rates = self.rates.sort_values(by='rate_avg_movie', ascending=False)\n",
    "        print(self.rates.head(4))\n",
    "        print(\"=\" * 42)\n",
    "        return self\n",
    "    \n",
    "class Analyzer:\n",
    "    def __init__(self, recommender):\n",
    "        self.recommender = recommender\n",
    "        self.rates = self.recommender.rates\n",
    "\n",
    "    def evaluate(self):\n",
    "        Y_HAT_REG = 'rate_avg_movie'\n",
    "        Y_HAT_CLA = 'rate_avg_movie_class'\n",
    "        self.__eval_regression(Y_HAT_REG)\n",
    "        print(\"=\" * 42)\n",
    "        self.__eval_classification(Y_HAT_CLA)\n",
    "        return self\n",
    "    \n",
    "    def __eval_regression(self, Y_HAT):\n",
    "        self.MAE = sum(abs(self.rates['rate'] - self.rates[str(Y_HAT)])) / len(self.rates)\n",
    "        self.MSE = sum((self.rates['rate'] - self.rates[str(Y_HAT)]) ** 2) / len(self.rates)\n",
    "        self.RMSE = self.MSE ** 0.5\n",
    "        self.MAPE = sum(abs(self.rates['rate'] - self.rates[str(Y_HAT)]) / self.rates['rate']) / len(self.rates)\n",
    "        print(f\"MAE:\\t{self.MAE}, \\nMSE:\\t{self.MSE}, \\nRMSE:\\t{self.RMSE} \\nMAPE:\\t{self.MAPE}\")\n",
    "\n",
    "    def __eval_classification(self, Y_HAT):\n",
    "        self.ConfusionMatrix = self.rates.groupby(['rate', Y_HAT]).size().unstack(fill_value=0)\n",
    "        self.ConfusionMatrix.insert(0, 1, 0)\n",
    "        self.Accuracy = sum([self.ConfusionMatrix.loc[i, i] for i in range(1, 11)]) / len(self.rates)\n",
    "        self.Precision = [self.ConfusionMatrix.loc[i, i] / sum(self.ConfusionMatrix.loc[i]) for i in range(1, 11)]\n",
    "        self.Recall = [self.ConfusionMatrix.loc[i, i] / sum(self.ConfusionMatrix.loc[i]) for i in range(1, 11)]\n",
    "        self.F1Score = [2 * self.Precision[i] * self.Recall[i] / (self.Precision[i] + self.Recall[i]) for i in range(0, 10)]\n",
    "        print(f\"ConfusionMatrix: {self.ConfusionMatrix}\\nAccuracy: {self.Accuracy},\\nPrecision: {self.Precision}, \\nRecall: {self.Recall}, \\nF1Score: {self.F1Score}\")\n",
    "    \n",
    "movie_data_loader = MovieDataLoader(\"../data\")\n",
    "avg_movie_recommender = AvgMovieRecommender(movie_data_loader)\n",
    "\n",
    "Analyzer(avg_movie_recommender).evaluate()"
   ]
  },
  {
   "cell_type": "markdown",
   "metadata": {},
   "source": []
  },
  {
   "cell_type": "markdown",
   "metadata": {},
   "source": [
    "# Ramdom \n",
    "\n",
    "MAE:\t4.112209508919054, \n",
    "MSE:\t24.60117262454694, \n",
    "RMSE:\t4.959956917609965 \n",
    "MAPE:\t0.6008466163098031\n",
    "\n",
    "Accuracy: 0.07113211569895529\n",
    "Precision: [np.float64(0.050778995960761686), np.float64(0.09727626459143969), np.float64(0.13161131611316113), np.float64(0.11080332409972299), np.float64(0.10980392156862745), np.float64(0.1043382756727073), np.float64(0.11429879444529223), np.float64(0.10951884662150425), np.float64(0.10889403432307274), np.float64(0.05539608732033344)]\n",
    "Recall: [np.float64(0.050778995960761686), np.float64(0.09727626459143969), np.float64(0.13161131611316113), np.float64(0.11080332409972299), np.float64(0.10980392156862745), np.float64(0.1043382756727073), np.float64(0.11429879444529223), np.float64(0.10951884662150425), np.float64(0.10889403432307274), np.float64(0.05539608732033344)]\n",
    "F1Score: [np.float64(0.050778995960761686), np.float64(0.09727626459143969), np.float64(0.13161131611316113), np.float64(0.11080332409972299), np.float64(0.10980392156862745), np.float64(0.1043382756727073), np.float64(0.11429879444529223), np.float64(0.10951884662150425), np.float64(0.10889403432307274), np.float64(0.05539608732033344)]"
   ]
  }
 ],
 "metadata": {
  "kernelspec": {
   "display_name": "venv",
   "language": "python",
   "name": "python3"
  },
  "language_info": {
   "codemirror_mode": {
    "name": "ipython",
    "version": 3
   },
   "file_extension": ".py",
   "mimetype": "text/x-python",
   "name": "python",
   "nbconvert_exporter": "python",
   "pygments_lexer": "ipython3",
   "version": "3.12.7"
  }
 },
 "nbformat": 4,
 "nbformat_minor": 2
}
