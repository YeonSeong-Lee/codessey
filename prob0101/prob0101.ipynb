{
 "cells": [
  {
   "cell_type": "markdown",
   "id": "8a77807f92f26ee",
   "metadata": {},
   "source": [
    "# 문제 1: 경험적으로 추천해보기"
   ]
  },
  {
   "cell_type": "code",
   "execution_count": 1,
   "id": "a7920374-3310-46bc-8edd-c5006313360f",
   "metadata": {
    "ExecuteTime": {
     "end_time": "2024-12-16T15:50:49.116510Z",
     "start_time": "2024-12-16T15:50:49.109706Z"
    }
   },
   "outputs": [],
   "source": [
    "import pandas as pd"
   ]
  },
  {
   "cell_type": "code",
   "execution_count": 2,
   "id": "7d13b1ff-955f-48f6-861e-5da33d77cf48",
   "metadata": {
    "ExecuteTime": {
     "end_time": "2024-12-16T15:50:49.116510Z",
     "start_time": "2024-12-16T15:50:49.109706Z"
    }
   },
   "outputs": [
    {
     "data": {
      "text/html": [
       "<div>\n",
       "<style scoped>\n",
       "    .dataframe tbody tr th:only-of-type {\n",
       "        vertical-align: middle;\n",
       "    }\n",
       "\n",
       "    .dataframe tbody tr th {\n",
       "        vertical-align: top;\n",
       "    }\n",
       "\n",
       "    .dataframe thead th {\n",
       "        text-align: right;\n",
       "    }\n",
       "</style>\n",
       "<table border=\"1\" class=\"dataframe\">\n",
       "  <thead>\n",
       "    <tr style=\"text-align: right;\">\n",
       "      <th></th>\n",
       "      <th>개봉일</th>\n",
       "      <th>제목</th>\n",
       "      <th>배급사</th>\n",
       "      <th>감독</th>\n",
       "      <th>출연진</th>\n",
       "      <th>장르</th>\n",
       "    </tr>\n",
       "  </thead>\n",
       "  <tbody>\n",
       "    <tr>\n",
       "      <th>0</th>\n",
       "      <td>2023-01-04</td>\n",
       "      <td>스위치</td>\n",
       "      <td>롯데컬처웍스, (주)롯데엔터테인먼트</td>\n",
       "      <td>마대윤</td>\n",
       "      <td>권상우, 오정세, 이민정, 박소이, 김준</td>\n",
       "      <td>기타</td>\n",
       "    </tr>\n",
       "    <tr>\n",
       "      <th>1</th>\n",
       "      <td>2023-01-05</td>\n",
       "      <td>강남좀비</td>\n",
       "      <td>(주)와이드릴리즈</td>\n",
       "      <td>이수성</td>\n",
       "      <td>지일주, 지연</td>\n",
       "      <td>드라마</td>\n",
       "    </tr>\n",
       "    <tr>\n",
       "      <th>2</th>\n",
       "      <td>2023-01-12</td>\n",
       "      <td>별 볼일 없는 인생</td>\n",
       "      <td>(주)이놀미디어</td>\n",
       "      <td>서동현</td>\n",
       "      <td>정가은</td>\n",
       "      <td>멜로/로맨스</td>\n",
       "    </tr>\n",
       "    <tr>\n",
       "      <th>3</th>\n",
       "      <td>2023-01-12</td>\n",
       "      <td>10일간의 애인</td>\n",
       "      <td>(주)그노스</td>\n",
       "      <td>이영용</td>\n",
       "      <td>송민경</td>\n",
       "      <td>멜로/로맨스</td>\n",
       "    </tr>\n",
       "    <tr>\n",
       "      <th>4</th>\n",
       "      <td>2023-01-18</td>\n",
       "      <td>교섭</td>\n",
       "      <td>플렉스엠엔터테인먼트</td>\n",
       "      <td>임순례</td>\n",
       "      <td>황정민, 현빈, 강기영</td>\n",
       "      <td>드라마</td>\n",
       "    </tr>\n",
       "  </tbody>\n",
       "</table>\n",
       "</div>"
      ],
      "text/plain": [
       "          개봉일          제목                  배급사   감독                     출연진  \\\n",
       "0  2023-01-04         스위치  롯데컬처웍스, (주)롯데엔터테인먼트  마대윤  권상우, 오정세, 이민정, 박소이, 김준   \n",
       "1  2023-01-05        강남좀비            (주)와이드릴리즈  이수성                 지일주, 지연   \n",
       "2  2023-01-12  별 볼일 없는 인생             (주)이놀미디어  서동현                     정가은   \n",
       "3  2023-01-12    10일간의 애인               (주)그노스  이영용                     송민경   \n",
       "4  2023-01-18          교섭           플렉스엠엔터테인먼트  임순례            황정민, 현빈, 강기영   \n",
       "\n",
       "       장르  \n",
       "0      기타  \n",
       "1     드라마  \n",
       "2  멜로/로맨스  \n",
       "3  멜로/로맨스  \n",
       "4     드라마  "
      ]
     },
     "execution_count": 2,
     "metadata": {},
     "output_type": "execute_result"
    }
   ],
   "source": [
    "# Load the dataset\n",
    "df = pd.read_csv('./data/prob-0101.csv')\n",
    "df.head()"
   ]
  },
  {
   "cell_type": "markdown",
   "id": "8a2febe2-4f4f-4a56-96cb-4d45e7043feb",
   "metadata": {
    "editable": true,
    "slideshow": {
     "slide_type": ""
    },
    "tags": []
   },
   "source": [
    "## basic statics"
   ]
  },
  {
   "cell_type": "code",
   "execution_count": null,
   "id": "8794644f0db9c48",
   "metadata": {
    "ExecuteTime": {
     "end_time": "2024-12-16T16:15:55.298868Z",
     "start_time": "2024-12-16T16:15:55.239177Z"
    },
    "editable": true,
    "slideshow": {
     "slide_type": ""
    },
    "tags": []
   },
   "outputs": [],
   "source": []
  },
  {
   "cell_type": "code",
   "execution_count": 3,
   "id": "dcc923128582013a",
   "metadata": {
    "ExecuteTime": {
     "end_time": "2024-12-16T16:14:03.475351Z",
     "start_time": "2024-12-16T16:14:03.472025Z"
    },
    "editable": true,
    "slideshow": {
     "slide_type": ""
    },
    "tags": []
   },
   "outputs": [],
   "source": [
    "unique_values = {\n",
    "    '배급사': df['배급사'].unique(),\n",
    "    '감독': df['감독'].unique(),\n",
    "    '출연진': df['출연진'].unique(),\n",
    "    '장르': df['장르'].unique()\n",
    "}"
   ]
  },
  {
   "cell_type": "code",
   "execution_count": 9,
   "id": "86e8465d833b783",
   "metadata": {
    "ExecuteTime": {
     "end_time": "2024-12-16T16:25:46.078701Z",
     "start_time": "2024-12-16T16:25:46.074387Z"
    },
    "editable": true,
    "slideshow": {
     "slide_type": ""
    },
    "tags": []
   },
   "outputs": [
    {
     "data": {
      "text/plain": [
       "[' ',\n",
       " ',',\n",
       " '가',\n",
       " '감',\n",
       " '강',\n",
       " '건',\n",
       " '겸',\n",
       " '경',\n",
       " '고',\n",
       " '공',\n",
       " '곽',\n",
       " '구',\n",
       " '국',\n",
       " '권',\n",
       " '규',\n",
       " '균',\n",
       " '기',\n",
       " '길',\n",
       " '김',\n",
       " '나',\n",
       " '남',\n",
       " '내',\n",
       " '네',\n",
       " '녀',\n",
       " '노',\n",
       " '누',\n",
       " '늬',\n",
       " '니',\n",
       " '다',\n",
       " '달',\n",
       " '대',\n",
       " '덕',\n",
       " '도',\n",
       " '동',\n",
       " '두',\n",
       " '라',\n",
       " '란',\n",
       " '랑',\n",
       " '련',\n",
       " '렬',\n",
       " '령',\n",
       " '류',\n",
       " '름',\n",
       " '리',\n",
       " '림',\n",
       " '마',\n",
       " '명',\n",
       " '모',\n",
       " '무',\n",
       " '문',\n",
       " '미',\n",
       " '민',\n",
       " '박',\n",
       " '방',\n",
       " '배',\n",
       " '백',\n",
       " '범',\n",
       " '벽',\n",
       " '변',\n",
       " '병',\n",
       " '보',\n",
       " '복',\n",
       " '봉',\n",
       " '빈',\n",
       " '사',\n",
       " '산',\n",
       " '상',\n",
       " '서',\n",
       " '석',\n",
       " '선',\n",
       " '설',\n",
       " '섭',\n",
       " '성',\n",
       " '세',\n",
       " '소',\n",
       " '솔',\n",
       " '송',\n",
       " '수',\n",
       " '숙',\n",
       " '순',\n",
       " '승',\n",
       " '시',\n",
       " '식',\n",
       " '신',\n",
       " '심',\n",
       " '아',\n",
       " '안',\n",
       " '애',\n",
       " '양',\n",
       " '연',\n",
       " '열',\n",
       " '염',\n",
       " '영',\n",
       " '오',\n",
       " '옥',\n",
       " '완',\n",
       " '용',\n",
       " '우',\n",
       " '욱',\n",
       " '운',\n",
       " '웅',\n",
       " '원',\n",
       " '유',\n",
       " '윤',\n",
       " '은',\n",
       " '음',\n",
       " '의',\n",
       " '이',\n",
       " '인',\n",
       " '일',\n",
       " '임',\n",
       " '자',\n",
       " '장',\n",
       " '재',\n",
       " '전',\n",
       " '정',\n",
       " '제',\n",
       " '조',\n",
       " '종',\n",
       " '주',\n",
       " '준',\n",
       " '중',\n",
       " '지',\n",
       " '진',\n",
       " '차',\n",
       " '찬',\n",
       " '창',\n",
       " '채',\n",
       " '천',\n",
       " '철',\n",
       " '최',\n",
       " '카',\n",
       " '키',\n",
       " '타',\n",
       " '탁',\n",
       " '태',\n",
       " '택',\n",
       " '팔',\n",
       " '표',\n",
       " '푸',\n",
       " '필',\n",
       " '하',\n",
       " '한',\n",
       " '해',\n",
       " '허',\n",
       " '혁',\n",
       " '현',\n",
       " '형',\n",
       " '혜',\n",
       " '호',\n",
       " '홍',\n",
       " '화',\n",
       " '환',\n",
       " '황',\n",
       " '효',\n",
       " '후',\n",
       " '훈',\n",
       " '휘',\n",
       " '희']"
      ]
     },
     "execution_count": 9,
     "metadata": {},
     "output_type": "execute_result"
    }
   ],
   "source": [
    "unique_actor = sorted(set(actor for sublist in df['출연진'] for actor in sublist))\n",
    "unique_actor"
   ]
  },
  {
   "cell_type": "code",
   "execution_count": 10,
   "id": "544bdcef06acaa7d",
   "metadata": {
    "ExecuteTime": {
     "end_time": "2024-12-16T16:43:58.693380Z",
     "start_time": "2024-12-16T16:43:58.690401Z"
    },
    "editable": true,
    "slideshow": {
     "slide_type": ""
    },
    "tags": []
   },
   "outputs": [],
   "source": [
    "import random\n",
    "\n",
    "def get_user_actor_choice(re_randomize=False):\n",
    "    if re_randomize:\n",
    "        random.shuffle(unique_actor)\n",
    "    random_actors = unique_actor[:3]\n",
    "    user_input = input(f\"출연진 중 한 명을 선택하세요: {random_actors}, 원하는 배우가 없다면 `re`를 입력하세요.\")\n",
    "    if user_input == 're':\n",
    "        return get_user_actor_choice(True)\n",
    "    if user_input in random_actors:\n",
    "        return user_input\n",
    "    else:\n",
    "        return get_user_actor_choice(False)"
   ]
  },
  {
   "cell_type": "code",
   "execution_count": null,
   "id": "ee40b207af5f5a7e",
   "metadata": {
    "ExecuteTime": {
     "end_time": "2024-12-16T16:47:30.854538Z",
     "start_time": "2024-12-16T16:47:23.582134Z"
    },
    "editable": true,
    "slideshow": {
     "slide_type": ""
    },
    "tags": []
   },
   "outputs": [
    {
     "name": "stdout",
     "output_type": "stream",
     "text": [
      "출연진 중 한 명을 선택하세요: [' ', ',', '가'], 원하는 배우가 없다면 `re`를 입력하세요. \n",
      "출연진 중 한 명을 선택하세요: [' ', ',', '가'], 원하는 배우가 없다면 `re`를 입력하세요. er gksrn\n"
     ]
    }
   ],
   "source": [
    "selected_actor = get_user_actor_choice().strip()\n",
    "recommended_movies = df[df['출연진'].apply(lambda cast: selected_actor in cast)]\n",
    "recommended_movies"
   ]
  },
  {
   "cell_type": "code",
   "execution_count": null,
   "id": "87f62afdb66ec624",
   "metadata": {
    "editable": true,
    "slideshow": {
     "slide_type": ""
    },
    "tags": []
   },
   "outputs": [],
   "source": []
  },
  {
   "cell_type": "code",
   "execution_count": null,
   "id": "85c64aea-5585-49fa-848e-77a98c2171e8",
   "metadata": {},
   "outputs": [],
   "source": []
  }
 ],
 "metadata": {
  "kernelspec": {
   "display_name": "venv",
   "language": "python",
   "name": "python3"
  },
  "language_info": {
   "codemirror_mode": {
    "name": "ipython",
    "version": 3
   },
   "file_extension": ".py",
   "mimetype": "text/x-python",
   "name": "python",
   "nbconvert_exporter": "python",
   "pygments_lexer": "ipython3",
   "version": "3.12.7"
  }
 },
 "nbformat": 4,
 "nbformat_minor": 5
}
