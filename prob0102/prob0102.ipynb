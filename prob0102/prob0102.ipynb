{
 "cells": [
  {
   "metadata": {},
   "cell_type": "markdown",
   "source": [
    "## **추천시스템 조사 및 이해**\n",
    "### **1. 추천시스템이란 무엇인가?**\n",
    "추천시스템은 사용자의 이전 행동, 선호도, 또는 데이터 분석을 기반으로 사용자에게 적합한 상품, 서비스, 콘텐츠 등을 찾아서 제안하는 시스템입니다.\n",
    "사용자 경험을 개인화하고 관련성 높은 추천을 통해 선택 과정을 간소화합니다.\n",
    "#### **추천시스템의 유형**\n",
    "- **협업 필터링(Collaborative Filtering):** 사용자 간의 유사성을 활용하여 비슷한 선호도를 가진 사용자가 좋아한 항목을 추천합니다.\n",
    "- **콘텐츠 기반 필터링(Content-Based Filtering):** 항목의 속성(태그, 키워드 등)을 기반으로 사용자의 과거 선호와 유사한 콘텐츠를 추천합니다.\n",
    "- **하이브리드 방식(Hybrid Approach):** 여러 추천 방식을 결합하여 효율성을 높이는 방법입니다.\n",
    "\n",
    "### **2. 추천시스템 목표**\n",
    "추천시스템의 주요 목표는 다음과 같습니다:\n",
    "1. **사용자 만족 극대화:**\n",
    "    - 사용자에게 관련성 높은 추천을 제공하여 만족도를 높입니다.\n",
    "\n",
    "2. **탐색 시간 감소:**\n",
    "    - 큰 데이터 중에서 사용자가 적합한 항목을 빠르게 찾을 수 있습니다.\n",
    "\n",
    "3. **개인화된 경험 제공:**\n",
    "    - 사용자의 관심사를 파악하고 개인 맞춤형 콘텐츠를 제안합니다.\n",
    "\n",
    "4. **사용자 참여 유도 및 충성도 향상:**\n",
    "    - 효과적인 추천으로 사용자가 플랫폼에 더 오래 머물도록 유도합니다.\n",
    "\n",
    "5. **비즈니스 목표 지원:**\n",
    "    - 판매 촉진, 클릭 증가와 같은 비즈니스 목표 달성에 도움을 줍니다.\n"
   ],
   "id": "756fcac1b4e6e6f8"
  },
  {
   "metadata": {},
   "cell_type": "markdown",
   "source": [
    "# REF\n",
    "https://www.nvidia.com/en-us/glossary/recommendation-system/\n",
    "\n",
    "https://koreascience.kr/article/JAKO201406464395461.pdf\n",
    "\n",
    "https://koreascience.kr/article/JAKO201406464395461.pdf\n",
    "\n",
    "https://scholar.archive.org/work/ds5ytz4xnfbptjqg4pkxczcgay/access/wayback/http://www.ndsl.kr/soc_img/society/kiie/SGHHB1/2015/v41n2/SGHHB1_2015_v41n2_185.pdf"
   ],
   "id": "22c6e03bb487eb88"
  },
  {
   "metadata": {},
   "cell_type": "markdown",
   "source": "#",
   "id": "28293d8cba436006"
  }
 ],
 "metadata": {
  "kernelspec": {
   "display_name": "Python 3",
   "language": "python",
   "name": "python3"
  },
  "language_info": {
   "codemirror_mode": {
    "name": "ipython",
    "version": 2
   },
   "file_extension": ".py",
   "mimetype": "text/x-python",
   "name": "python",
   "nbconvert_exporter": "python",
   "pygments_lexer": "ipython2",
   "version": "2.7.6"
  }
 },
 "nbformat": 4,
 "nbformat_minor": 5
}
