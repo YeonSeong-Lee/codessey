{
 "cells": [
  {
   "cell_type": "code",
   "execution_count": 2,
   "metadata": {},
   "outputs": [],
   "source": [
    "import pandas as pd\n",
    "import math\n",
    "import os\n",
    "import random"
   ]
  },
  {
   "cell_type": "code",
   "execution_count": 11,
   "metadata": {},
   "outputs": [
    {
     "ename": "IndexError",
     "evalue": "list index out of range",
     "output_type": "error",
     "traceback": [
      "\u001b[0;31m---------------------------------------------------------------------------\u001b[0m",
      "\u001b[0;31mIndexError\u001b[0m                                Traceback (most recent call last)",
      "Cell \u001b[0;32mIn[11], line 51\u001b[0m\n\u001b[1;32m     48\u001b[0m random_recommender\u001b[38;5;241m.\u001b[39mrun()\n\u001b[1;32m     50\u001b[0m analyzer \u001b[38;5;241m=\u001b[39m Analyzer(random_recommender)\n\u001b[0;32m---> 51\u001b[0m \u001b[43manalyzer\u001b[49m\u001b[38;5;241;43m.\u001b[39;49m\u001b[43mevaluate\u001b[49m\u001b[43m(\u001b[49m\u001b[43m)\u001b[49m\n",
      "Cell \u001b[0;32mIn[11], line 41\u001b[0m, in \u001b[0;36mAnalyzer.evaluate\u001b[0;34m(self)\u001b[0m\n\u001b[1;32m     39\u001b[0m \u001b[38;5;28mself\u001b[39m\u001b[38;5;241m.\u001b[39mAccuracy \u001b[38;5;241m=\u001b[39m \u001b[38;5;28msum\u001b[39m([\u001b[38;5;28mself\u001b[39m\u001b[38;5;241m.\u001b[39mConfusionMatrix\u001b[38;5;241m.\u001b[39mloc[i, i] \u001b[38;5;28;01mfor\u001b[39;00m i \u001b[38;5;129;01min\u001b[39;00m \u001b[38;5;28mrange\u001b[39m(\u001b[38;5;241m1\u001b[39m, \u001b[38;5;241m11\u001b[39m)]) \u001b[38;5;241m/\u001b[39m \u001b[38;5;28mlen\u001b[39m(\u001b[38;5;28mself\u001b[39m\u001b[38;5;241m.\u001b[39mrates)\n\u001b[1;32m     40\u001b[0m \u001b[38;5;28mself\u001b[39m\u001b[38;5;241m.\u001b[39mRecall \u001b[38;5;241m=\u001b[39m [\u001b[38;5;28mself\u001b[39m\u001b[38;5;241m.\u001b[39mConfusionMatrix\u001b[38;5;241m.\u001b[39mloc[i, i] \u001b[38;5;241m/\u001b[39m \u001b[38;5;28msum\u001b[39m(\u001b[38;5;28mself\u001b[39m\u001b[38;5;241m.\u001b[39mConfusionMatrix\u001b[38;5;241m.\u001b[39mloc[i]) \u001b[38;5;28;01mfor\u001b[39;00m i \u001b[38;5;129;01min\u001b[39;00m \u001b[38;5;28mrange\u001b[39m(\u001b[38;5;241m1\u001b[39m, \u001b[38;5;241m11\u001b[39m)]\n\u001b[0;32m---> 41\u001b[0m \u001b[38;5;28mself\u001b[39m\u001b[38;5;241m.\u001b[39mF1Score \u001b[38;5;241m=\u001b[39m [\u001b[38;5;241m2\u001b[39m \u001b[38;5;241m*\u001b[39m \u001b[38;5;28;43mself\u001b[39;49m\u001b[38;5;241;43m.\u001b[39;49m\u001b[43mRecall\u001b[49m\u001b[43m[\u001b[49m\u001b[43mi\u001b[49m\u001b[43m]\u001b[49m \u001b[38;5;241m*\u001b[39m \u001b[38;5;28mself\u001b[39m\u001b[38;5;241m.\u001b[39mAccuracy \u001b[38;5;241m/\u001b[39m (\u001b[38;5;28mself\u001b[39m\u001b[38;5;241m.\u001b[39mRecall[i] \u001b[38;5;241m+\u001b[39m \u001b[38;5;28mself\u001b[39m\u001b[38;5;241m.\u001b[39mAccuracy) \u001b[38;5;28;01mfor\u001b[39;00m i \u001b[38;5;129;01min\u001b[39;00m \u001b[38;5;28mrange\u001b[39m(\u001b[38;5;241m1\u001b[39m, \u001b[38;5;241m11\u001b[39m)]\n\u001b[1;32m     42\u001b[0m \u001b[38;5;28mprint\u001b[39m(\u001b[38;5;124mf\u001b[39m\u001b[38;5;124m\"\u001b[39m\u001b[38;5;124mConfision Matrix: \u001b[39m\u001b[38;5;130;01m\\n\u001b[39;00m\u001b[38;5;132;01m{\u001b[39;00m\u001b[38;5;28mself\u001b[39m\u001b[38;5;241m.\u001b[39mConfusionMatrix\u001b[38;5;132;01m}\u001b[39;00m\u001b[38;5;124m\"\u001b[39m)\n\u001b[1;32m     43\u001b[0m \u001b[38;5;28;01mreturn\u001b[39;00m \u001b[38;5;28mself\u001b[39m\u001b[38;5;241m.\u001b[39mrates111\n",
      "\u001b[0;31mIndexError\u001b[0m: list index out of range"
     ]
    }
   ],
   "source": [
    "class MovieDataLoader:\n",
    "    def __init__(self, file_path = '../data'):\n",
    "        self.file_path = file_path\n",
    "        self.__load_data()\n",
    "\n",
    "    def __load_data(self):\n",
    "        for file_name in os.listdir(self.file_path):\n",
    "            self.file_name = []\n",
    "            if file_name.endswith('.csv'):\n",
    "                setattr(self, os.path.splitext(file_name)[0], pd.read_csv(os.path.join(self.file_path, file_name)))\n",
    "            if file_name.endswith('.txt'):\n",
    "                setattr(self, os.path.splitext(file_name)[0], pd.read_csv(os.path.join(self.file_path, file_name), sep='\\t', engine='python'))\n",
    "\n",
    "\n",
    "class RandomRecommender:\n",
    "    def __init__(self, movie_data_loader):\n",
    "        self.loader = movie_data_loader\n",
    "        self.movies = self.loader.movies\n",
    "        self.rates = self.loader.rates\n",
    "\n",
    "    def run(self):\n",
    "        self.rates['rate_random'] = [random.uniform(1, 10) for _ in range(len(self.rates))]\n",
    "        self.rates = self.rates.sort_values(by='rate_random', ascending=False)\n",
    "        # 사사오입 반올림\n",
    "        self.rates['rate_random_class'] = self.rates['rate_random'].apply(lambda x: math.floor(x + 0.5))\n",
    "        return self\n",
    "    \n",
    "class Analyzer:\n",
    "    def __init__(self, recommender):\n",
    "        self.recommender = recommender\n",
    "        self.rates = self.recommender.rates\n",
    "\n",
    "    def evaluate(self):\n",
    "        self.MAE = sum(abs(self.rates['rate'] - self.rates['rate_random'])) / len(self.rates)\n",
    "        self.MSE = sum((self.rates['rate'] - self.rates['rate_random']) ** 2) / len(self.rates)\n",
    "        self.RMSE = self.MSE ** 0.5\n",
    "        self.MAPE = sum(abs(self.rates['rate'] - self.rates['rate_random']) / self.rates['rate']) / len(self.rates)\n",
    "        # self.ConfusionMatrix = self.rates.groupby(['rate', 'rate_random_class']).size().unstack(fill_value=0)\n",
    "        # self.Accuracy = sum([self.ConfusionMatrix.loc[i, i] for i in range(1, 11)]) / len(self.rates)\n",
    "        # self.Recall = [self.ConfusionMatrix.loc[i, i] / sum(self.ConfusionMatrix.loc[i]) for i in range(1, 11)]\n",
    "        # self.F1Score = [2 * self.Recall[i] * self.Accuracy / (self.Recall[i] + self.Accuracy) for i in range(1, 11)]\n",
    "        return self.rates\n",
    "\n",
    "\n",
    "movie_data_loader = MovieDataLoader(\"../data\")\n",
    "random_recommender = RandomRecommender(movie_data_loader)\n",
    "random_recommender.run()\n",
    "\n",
    "analyzer = Analyzer(random_recommender)\n",
    "analyzer.evaluate()"
   ]
  },
  {
   "cell_type": "markdown",
   "metadata": {},
   "source": [
    "# 혼동 행렬 (Confusion Matrix)\n",
    "\n",
    "# 정확도 (Accuracy)\n",
    "\n",
    "# 정밀도 (Precision)\n",
    "\n",
    "# 재현율 (Recall)\n",
    "\n",
    "# F1 점수 (F1 Score)\n",
    "\n",
    "# + ROC 곡선 (ROC Curve)"
   ]
  },
  {
   "cell_type": "markdown",
   "metadata": {},
   "source": [
    "# REF\n",
    "[Simplifying The Visualization of Confusion Matix](https://ir.cwi.nl/pub/22777/22777B.pdf)\n",
    "\n",
    "[조화평균 이해](https://www.youtube.com/watch?v=llK4YBiv4uc)"
   ]
  },
  {
   "cell_type": "markdown",
   "metadata": {},
   "source": [
    "# INFO\n",
    "python 반올림 방법\n",
    "Bankers' Rounding 형식, 우리는 사사오입방식으로 해야. class의 분산의 영향력을 최소화 할 수 있다."
   ]
  },
  {
   "cell_type": "markdown",
   "metadata": {},
   "source": []
  }
 ],
 "metadata": {
  "kernelspec": {
   "display_name": "venv",
   "language": "python",
   "name": "python3"
  },
  "language_info": {
   "codemirror_mode": {
    "name": "ipython",
    "version": 3
   },
   "file_extension": ".py",
   "mimetype": "text/x-python",
   "name": "python",
   "nbconvert_exporter": "python",
   "pygments_lexer": "ipython3",
   "version": "3.12.7"
  }
 },
 "nbformat": 4,
 "nbformat_minor": 2
}
