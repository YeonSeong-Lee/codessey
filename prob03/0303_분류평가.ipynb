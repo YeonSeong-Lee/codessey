{
 "cells": [
  {
   "cell_type": "code",
   "execution_count": 50,
   "metadata": {},
   "outputs": [],
   "source": [
    "import pandas as pd\n",
    "import math\n",
    "import os\n",
    "import random"
   ]
  },
  {
   "cell_type": "code",
   "execution_count": 53,
   "metadata": {},
   "outputs": [
    {
     "name": "stdout",
     "output_type": "stream",
     "text": [
      "ConfusionMatrix: rate_random_class    1      2      3      4      5      6      7      8   \\\n",
      "rate                                                                       \n",
      "1                   285    604    559    601    584    563    567    578   \n",
      "2                    54     93     80     97     64     83     87     78   \n",
      "3                    57    100     90     95    100     78     86     74   \n",
      "4                    58    137    114    114    130    124    127    115   \n",
      "5                   104    225    229    222    210    209    229    247   \n",
      "6                   214    426    378    394    380    410    457    353   \n",
      "7                   358    763    697    673    734    780    784    691   \n",
      "8                   627   1300   1259   1295   1253   1247   1301   1341   \n",
      "9                   773   1617   1585   1627   1641   1668   1646   1704   \n",
      "10                 5325  10391  10570  10571  10463  10486  10457  10495   \n",
      "\n",
      "rate_random_class     9     10  \n",
      "rate                            \n",
      "1                    570   288  \n",
      "2                    100    35  \n",
      "3                     79    54  \n",
      "4                    109    55  \n",
      "5                    243   122  \n",
      "6                    420   210  \n",
      "7                    705   368  \n",
      "8                   1278   613  \n",
      "9                   1626   797  \n",
      "10                 10503  5150  \n",
      "Accuracy: 0.0718001563499396\n",
      "Precision: [np.float64(0.054818234275822275), np.float64(0.12062256809338522), np.float64(0.11070110701107011), np.float64(0.10526315789473684), np.float64(0.10294117647058823), np.float64(0.11257550796265788), np.float64(0.1196398596062872), np.float64(0.11646690984887963), np.float64(0.1107327703622991), np.float64(0.054548728432068296)]\n",
      "Recall: [np.float64(0.054818234275822275), np.float64(0.12062256809338522), np.float64(0.11070110701107011), np.float64(0.10526315789473684), np.float64(0.10294117647058823), np.float64(0.11257550796265788), np.float64(0.1196398596062872), np.float64(0.11646690984887963), np.float64(0.1107327703622991), np.float64(0.054548728432068296)]\n",
      "F1Score: [np.float64(0.054818234275822275), np.float64(0.12062256809338523), np.float64(0.11070110701107011), np.float64(0.10526315789473684), np.float64(0.10294117647058823), np.float64(0.11257550796265786), np.float64(0.1196398596062872), np.float64(0.11646690984887963), np.float64(0.1107327703622991), np.float64(0.054548728432068296)]\n"
     ]
    },
    {
     "data": {
      "text/plain": [
       "<__main__.Analyzer at 0x245a935d3a0>"
      ]
     },
     "execution_count": 53,
     "metadata": {},
     "output_type": "execute_result"
    }
   ],
   "source": [
    "class MovieDataLoader:\n",
    "    def __init__(self, file_path = '../data'):\n",
    "        self.file_path = file_path\n",
    "        self.__load_data()\n",
    "\n",
    "    def __load_data(self):\n",
    "        for file_name in os.listdir(self.file_path):\n",
    "            self.file_name = []\n",
    "            if file_name.endswith('.csv'):\n",
    "                setattr(self, os.path.splitext(file_name)[0], pd.read_csv(os.path.join(self.file_path, file_name)))\n",
    "            if file_name.endswith('.txt'):\n",
    "                setattr(self, os.path.splitext(file_name)[0], pd.read_csv(os.path.join(self.file_path, file_name), sep='\\t', engine='python'))\n",
    "\n",
    "\n",
    "class RandomRecommender:\n",
    "    def __init__(self, movie_data_loader):\n",
    "        self.loader = movie_data_loader\n",
    "        self.movies = self.loader.movies\n",
    "        self.rates = self.loader.rates\n",
    "\n",
    "    def run(self):\n",
    "        self.rates['rate_random'] = [random.uniform(1, 10) for _ in range(len(self.rates))]\n",
    "        self.rates = self.rates.sort_values(by='rate_random', ascending=False)\n",
    "        # 사사오입 반올림\n",
    "        self.rates['rate_random_class'] = self.rates['rate_random'].apply(lambda x: math.floor(x + 0.5))\n",
    "        return self\n",
    "    \n",
    "class Analyzer:\n",
    "    def __init__(self, recommender):\n",
    "        self.recommender = recommender\n",
    "        self.rates = self.recommender.rates\n",
    "\n",
    "    def evaluate(self):\n",
    "        self.MAE = sum(abs(self.rates['rate'] - self.rates['rate_random'])) / len(self.rates)\n",
    "        self.MSE = sum((self.rates['rate'] - self.rates['rate_random']) ** 2) / len(self.rates)\n",
    "        self.RMSE = self.MSE ** 0.5\n",
    "        self.MAPE = sum(abs(self.rates['rate'] - self.rates['rate_random']) / self.rates['rate']) / len(self.rates)\n",
    "        self.ConfusionMatrix = self.rates.groupby(['rate', 'rate_random_class']).size().unstack(fill_value=0)\n",
    "        self.Accuracy = sum([self.ConfusionMatrix.loc[i, i] for i in range(1, 11)]) / len(self.rates)\n",
    "        self.Precision = [self.ConfusionMatrix.loc[i, i] / sum(self.ConfusionMatrix.loc[i]) for i in range(1, 11)]\n",
    "        self.Recall = [self.ConfusionMatrix.loc[i, i] / sum(self.ConfusionMatrix.loc[i]) for i in range(1, 11)]\n",
    "        self.F1Score = [2 * self.Precision[i] * self.Recall[i] / (self.Precision[i] + self.Recall[i]) for i in range(0, 10)]\n",
    "        print(f\"ConfusionMatrix: {self.ConfusionMatrix}\")\n",
    "        print(f\"Accuracy: {self.Accuracy}\")\n",
    "        print(f\"Precision: {self.Precision}\")\n",
    "        print(f\"Recall: {self.Recall}\")\n",
    "        print(f\"F1Score: {self.F1Score}\")\n",
    "        return self\n",
    "\n",
    "\n",
    "movie_data_loader = MovieDataLoader(\"../data\")\n",
    "random_recommender = RandomRecommender(movie_data_loader)\n",
    "random_recommender.run()\n",
    "\n",
    "analyzer = Analyzer(random_recommender)\n",
    "analyzer.evaluate()\n"
   ]
  },
  {
   "cell_type": "markdown",
   "metadata": {},
   "source": [
    "# 혼동 행렬 (Confusion Matrix)\n",
    "\n",
    "# 정확도 (Accuracy)\n",
    "\n",
    "# 정밀도 (Precision)\n",
    "\n",
    "# 재현율 (Recall)\n",
    "\n",
    "# F1 점수 (F1 Score)\n",
    "\n",
    "# + ROC 곡선 (ROC Curve)"
   ]
  },
  {
   "cell_type": "markdown",
   "metadata": {},
   "source": [
    "# REF\n",
    "[Simplifying The Visualization of Confusion Matix](https://ir.cwi.nl/pub/22777/22777B.pdf)\n",
    "\n",
    "[조화평균 이해](https://www.youtube.com/watch?v=llK4YBiv4uc)"
   ]
  },
  {
   "cell_type": "markdown",
   "metadata": {},
   "source": [
    "# INFO\n",
    "python 반올림 방법\n",
    "Bankers' Rounding 형식, 우리는 사사오입방식으로 해야. class의 분산의 영향력을 최소화 할 수 있다."
   ]
  },
  {
   "cell_type": "markdown",
   "metadata": {},
   "source": []
  }
 ],
 "metadata": {
  "kernelspec": {
   "display_name": "venv",
   "language": "python",
   "name": "python3"
  },
  "language_info": {
   "codemirror_mode": {
    "name": "ipython",
    "version": 3
   },
   "file_extension": ".py",
   "mimetype": "text/x-python",
   "name": "python",
   "nbconvert_exporter": "python",
   "pygments_lexer": "ipython3",
   "version": "3.12.3"
  }
 },
 "nbformat": 4,
 "nbformat_minor": 2
}
