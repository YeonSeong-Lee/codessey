{
 "cells": [
  {
   "cell_type": "code",
   "execution_count": 18,
   "metadata": {},
   "outputs": [],
   "source": [
    "import pandas as pd\n",
    "import math\n",
    "import os\n",
    "import random\n",
    "from sklearn.metrics import roc_curve, roc_auc_score\n",
    "import matplotlib.pyplot as plt"
   ]
  },
  {
   "cell_type": "code",
   "execution_count": 19,
   "metadata": {},
   "outputs": [
    {
     "name": "stdout",
     "output_type": "stream",
     "text": [
      "ConfusionMatrix: rate_random_class    1      2      3      4      5      6      7      8   \\\n",
      "rate                                                                       \n",
      "1                   264    592    582    602    573    543    601    586   \n",
      "2                    38     75    106     82     84     70     93     79   \n",
      "3                    48    102    107     78     96     84     92     93   \n",
      "4                    55    110    142    120    108    126    118    120   \n",
      "5                   100    218    249    251    224    223    216    239   \n",
      "6                   209    411    404    393    416    380    431    406   \n",
      "7                   364    710    743    729    664    724    749    760   \n",
      "8                   595   1274   1285   1269   1326   1269   1339   1261   \n",
      "9                   817   1703   1642   1597   1663   1580   1620   1612   \n",
      "10                 5328  10535  10559  10436  10503  10481  10374  10519   \n",
      "\n",
      "rate_random_class     9     10  \n",
      "rate                            \n",
      "1                    548   308  \n",
      "2                     91    53  \n",
      "3                     77    36  \n",
      "4                    126    58  \n",
      "5                    215   105  \n",
      "6                    404   188  \n",
      "7                    720   390  \n",
      "8                   1259   637  \n",
      "9                   1599   851  \n",
      "10                 10446  5230  \n",
      "Accuracy: 0.07113211569895529\n",
      "Precision: [np.float64(0.050778995960761686), np.float64(0.09727626459143969), np.float64(0.13161131611316113), np.float64(0.11080332409972299), np.float64(0.10980392156862745), np.float64(0.1043382756727073), np.float64(0.11429879444529223), np.float64(0.10951884662150425), np.float64(0.10889403432307274), np.float64(0.05539608732033344)]\n",
      "Recall: [np.float64(0.050778995960761686), np.float64(0.09727626459143969), np.float64(0.13161131611316113), np.float64(0.11080332409972299), np.float64(0.10980392156862745), np.float64(0.1043382756727073), np.float64(0.11429879444529223), np.float64(0.10951884662150425), np.float64(0.10889403432307274), np.float64(0.05539608732033344)]\n",
      "F1Score: [np.float64(0.050778995960761686), np.float64(0.09727626459143969), np.float64(0.13161131611316113), np.float64(0.11080332409972299), np.float64(0.10980392156862745), np.float64(0.1043382756727073), np.float64(0.11429879444529223), np.float64(0.10951884662150425), np.float64(0.10889403432307274), np.float64(0.05539608732033344)]\n"
     ]
    },
    {
     "data": {
      "text/plain": [
       "<__main__.Analyzer at 0x72a5cb707260>"
      ]
     },
     "execution_count": 19,
     "metadata": {},
     "output_type": "execute_result"
    }
   ],
   "source": [
    "class MovieDataLoader:\n",
    "    def __init__(self, file_path = '../data'):\n",
    "        self.file_path = file_path\n",
    "        self.__load_data()\n",
    "\n",
    "    def __load_data(self):\n",
    "        for file_name in os.listdir(self.file_path):\n",
    "            self.file_name = []\n",
    "            if file_name.endswith('.csv'):\n",
    "                setattr(self, os.path.splitext(file_name)[0], pd.read_csv(os.path.join(self.file_path, file_name)))\n",
    "            if file_name.endswith('.txt'):\n",
    "                setattr(self, os.path.splitext(file_name)[0], pd.read_csv(os.path.join(self.file_path, file_name), sep='\\t', engine='python'))\n",
    "\n",
    "\n",
    "class RandomRecommender:\n",
    "    def __init__(self, movie_data_loader):\n",
    "        self.loader = movie_data_loader\n",
    "        self.movies = self.loader.movies\n",
    "        self.rates = self.loader.rates\n",
    "\n",
    "    def run(self):\n",
    "        self.rates['rate_random'] = [random.uniform(1, 10) for _ in range(len(self.rates))]\n",
    "        self.rates = self.rates.sort_values(by='rate_random', ascending=False)\n",
    "        # 사사오입 반올림\n",
    "        self.rates['rate_random_class'] = self.rates['rate_random'].apply(lambda x: math.floor(x + 0.5))\n",
    "        return self\n",
    "    \n",
    "class Analyzer:\n",
    "    def __init__(self, recommender):\n",
    "        self.recommender = recommender\n",
    "        self.rates = self.recommender.rates\n",
    "\n",
    "    def evaluate(self):\n",
    "        self.MAE = sum(abs(self.rates['rate'] - self.rates['rate_random'])) / len(self.rates)\n",
    "        self.MSE = sum((self.rates['rate'] - self.rates['rate_random']) ** 2) / len(self.rates)\n",
    "        self.RMSE = self.MSE ** 0.5\n",
    "        self.MAPE = sum(abs(self.rates['rate'] - self.rates['rate_random']) / self.rates['rate']) / len(self.rates)\n",
    "        self.ConfusionMatrix = self.rates.groupby(['rate', 'rate_random_class']).size().unstack(fill_value=0)\n",
    "        self.Accuracy = sum([self.ConfusionMatrix.loc[i, i] for i in range(1, 11)]) / len(self.rates)\n",
    "        self.Precision = [self.ConfusionMatrix.loc[i, i] / sum(self.ConfusionMatrix.loc[i]) for i in range(1, 11)]\n",
    "        self.Recall = [self.ConfusionMatrix.loc[i, i] / sum(self.ConfusionMatrix.loc[i]) for i in range(1, 11)]\n",
    "        self.F1Score = [2 * self.Precision[i] * self.Recall[i] / (self.Precision[i] + self.Recall[i]) for i in range(0, 10)]\n",
    "        print(f\"ConfusionMatrix: {self.ConfusionMatrix}\")\n",
    "        print(f\"Accuracy: {self.Accuracy}\")\n",
    "        print(f\"Precision: {self.Precision}\")\n",
    "        print(f\"Recall: {self.Recall}\")\n",
    "        print(f\"F1Score: {self.F1Score}\")\n",
    "        return self\n",
    "    \n",
    "movie_data_loader = MovieDataLoader(\"../data\")\n",
    "random_recommender = RandomRecommender(movie_data_loader)\n",
    "random_recommender.run()\n",
    "\n",
    "analyzer = Analyzer(random_recommender)\n",
    "analyzer.evaluate()\n"
   ]
  },
  {
   "cell_type": "markdown",
   "metadata": {},
   "source": [
    "# 혼동 행렬 (Confusion Matrix)\n",
    "\n",
    "# 정확도 (Accuracy)\n",
    "\n",
    "# 정밀도 (Precision)\n",
    "\n",
    "# 재현율 (Recall)\n",
    "\n",
    "# F1 점수 (F1 Score)\n",
    "\n",
    "# + ROC 곡선 (ROC Curve)"
   ]
  },
  {
   "cell_type": "markdown",
   "metadata": {},
   "source": [
    "# REF\n",
    "[Simplifying The Visualization of Confusion Matix](https://ir.cwi.nl/pub/22777/22777B.pdf)\n",
    "\n",
    "[조화평균 이해](https://www.youtube.com/watch?v=llK4YBiv4uc)"
   ]
  },
  {
   "cell_type": "markdown",
   "metadata": {},
   "source": [
    "# INFO\n",
    "python 반올림 방법\n",
    "Bankers' Rounding 형식, 우리는 사사오입방식으로 해야. class의 분산의 영향력을 최소화 할 수 있다."
   ]
  },
  {
   "cell_type": "markdown",
   "metadata": {},
   "source": []
  }
 ],
 "metadata": {
  "kernelspec": {
   "display_name": "venv",
   "language": "python",
   "name": "python3"
  },
  "language_info": {
   "codemirror_mode": {
    "name": "ipython",
    "version": 3
   },
   "file_extension": ".py",
   "mimetype": "text/x-python",
   "name": "python",
   "nbconvert_exporter": "python",
   "pygments_lexer": "ipython3",
   "version": "3.12.7"
  }
 },
 "nbformat": 4,
 "nbformat_minor": 2
}
