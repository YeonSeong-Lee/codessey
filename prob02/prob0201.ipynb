{
 "cells": [
  {
   "cell_type": "markdown",
   "metadata": {},
   "source": [
    "# 목표\n",
    "- [MovieLens](https://grouplens.org/datasets/movielens/)\n",
    "- [KMRD](https://github.com/lovit/kmrd)\n",
    "- [Netflix]https://archive.org/details/nf_prize_dataset.tar)\n",
    "\n",
    "각 데이터에서 제공하는 항목이 개발하려고 하는 추천 시스템에서 활용하기 쉬운지 파악한다.\n",
    "영화, 사용자, 장르, 출연배우, 제작국가, 제작일, 출시일, 평점, 평가일 등 제공하는 정보를 확인하고 조합해 보면서 확인이 필요하다."
   ]
  },
  {
   "cell_type": "code",
   "execution_count": 9,
   "metadata": {},
   "outputs": [
    {
     "data": {
      "text/html": [
       "<div>\n",
       "<style scoped>\n",
       "    .dataframe tbody tr th:only-of-type {\n",
       "        vertical-align: middle;\n",
       "    }\n",
       "\n",
       "    .dataframe tbody tr th {\n",
       "        vertical-align: top;\n",
       "    }\n",
       "\n",
       "    .dataframe thead th {\n",
       "        text-align: right;\n",
       "    }\n",
       "</style>\n",
       "<table border=\"1\" class=\"dataframe\">\n",
       "  <thead>\n",
       "    <tr style=\"text-align: right;\">\n",
       "      <th></th>\n",
       "      <th>userId</th>\n",
       "      <th>movieId</th>\n",
       "      <th>tag</th>\n",
       "      <th>timestamp</th>\n",
       "    </tr>\n",
       "  </thead>\n",
       "  <tbody>\n",
       "    <tr>\n",
       "      <th>0</th>\n",
       "      <td>2</td>\n",
       "      <td>60756</td>\n",
       "      <td>funny</td>\n",
       "      <td>1445714994</td>\n",
       "    </tr>\n",
       "    <tr>\n",
       "      <th>1</th>\n",
       "      <td>2</td>\n",
       "      <td>60756</td>\n",
       "      <td>Highly quotable</td>\n",
       "      <td>1445714996</td>\n",
       "    </tr>\n",
       "    <tr>\n",
       "      <th>2</th>\n",
       "      <td>2</td>\n",
       "      <td>60756</td>\n",
       "      <td>will ferrell</td>\n",
       "      <td>1445714992</td>\n",
       "    </tr>\n",
       "    <tr>\n",
       "      <th>3</th>\n",
       "      <td>2</td>\n",
       "      <td>89774</td>\n",
       "      <td>Boxing story</td>\n",
       "      <td>1445715207</td>\n",
       "    </tr>\n",
       "    <tr>\n",
       "      <th>4</th>\n",
       "      <td>2</td>\n",
       "      <td>89774</td>\n",
       "      <td>MMA</td>\n",
       "      <td>1445715200</td>\n",
       "    </tr>\n",
       "  </tbody>\n",
       "</table>\n",
       "</div>"
      ],
      "text/plain": [
       "   userId  movieId              tag   timestamp\n",
       "0       2    60756            funny  1445714994\n",
       "1       2    60756  Highly quotable  1445714996\n",
       "2       2    60756     will ferrell  1445714992\n",
       "3       2    89774     Boxing story  1445715207\n",
       "4       2    89774              MMA  1445715200"
      ]
     },
     "execution_count": 9,
     "metadata": {},
     "output_type": "execute_result"
    }
   ],
   "source": [
    "# MovieLens 데이터 확인\n",
    "\n",
    "import pandas as pd\n",
    "import zipfile\n",
    "\n",
    "# zip 파일 경로\n",
    "zip_path = 'data/ml-latest-small.zip'\n",
    "\n",
    "# zip 파일 압축 해제\n",
    "with zipfile.ZipFile(zip_path, 'r') as zip_ref:\n",
    "    zip_ref.extractall('./data')\n",
    "\n",
    "\n",
    "# 압축 해제한 파일 목록 확인\n",
    "movies = pd.read_csv('./data/ml-latest-small/movies.csv')\n",
    "ratings = pd.read_csv('./data/ml-latest-small/ratings.csv')\n",
    "tags = pd.read_csv('./data/ml-latest-small/tags.csv')\n",
    "links = pd.read_csv('./data/ml-latest-small/links.csv')"
   ]
  },
  {
   "cell_type": "markdown",
   "metadata": {},
   "source": [
    "## MoviesLens README.txt\n",
    "\n",
    "### MovieLens 데이터셋의 파일 구조:\n",
    "#### 1. ratings.csv\n",
    "- 사용자의 영화 평점 데이터\n",
    "- 구조: userId, movieId, rating, timestamp\n",
    "- 5점 척도(0.5-5.0)로 평가\n",
    "- timestamp는 1970년 1월 1일 자정 UTC 기준 초 단위\n",
    "#### 2. tags.csv  \n",
    "- 사용자가 영화에 부여한 태그 데이터\n",
    "- 구조: userId, movieId, tag, timestamp\n",
    "- 태그는 사용자가 생성한 단어나 짧은 구문\n",
    "#### 3. movies.csv\n",
    "- 영화 정보 데이터\n",
    "- 구조: movieId, title, genres\n",
    "- title에는 개봉연도 포함\n",
    "- genres는 파이프(|)로 구분된 장르 목록\n",
    "#### 4. links.csv\n",
    "- 외부 영화 데이터베이스 연결을 위한 ID 정보\n",
    "- 구조: movieId, imdbId, tmdbId\n",
    "- MovieLens, IMDB, TMDB의 영화 ID 매핑 정보\n"
   ]
  }
 ],
 "metadata": {
  "kernelspec": {
   "display_name": "Python 3",
   "language": "python",
   "name": "python3"
  },
  "language_info": {
   "codemirror_mode": {
    "name": "ipython",
    "version": 3
   },
   "file_extension": ".py",
   "mimetype": "text/x-python",
   "name": "python",
   "nbconvert_exporter": "python",
   "pygments_lexer": "ipython3",
   "version": "3.12.3"
  }
 },
 "nbformat": 4,
 "nbformat_minor": 2
}
